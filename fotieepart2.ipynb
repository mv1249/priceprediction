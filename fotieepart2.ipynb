{
  "nbformat": 4,
  "nbformat_minor": 0,
  "metadata": {
    "colab": {
      "name": "fotieepart2.ipynb",
      "provenance": [],
      "collapsed_sections": []
    },
    "kernelspec": {
      "name": "python3",
      "display_name": "Python 3"
    },
    "accelerator": "GPU"
  },
  "cells": [
    {
      "cell_type": "code",
      "metadata": {
        "id": "y7jn2mWp6wpF",
        "colab_type": "code",
        "colab": {
          "base_uri": "https://localhost:8080/",
          "height": 70
        },
        "outputId": "5c7bfd48-0c84-4ef7-a177-66896fce99d4"
      },
      "source": [
        "import numpy as np\n",
        "import pandas as pd\n",
        "import seaborn as sn\n",
        "import matplotlib.pyplot as plt\n"
      ],
      "execution_count": 1,
      "outputs": [
        {
          "output_type": "stream",
          "text": [
            "/usr/local/lib/python3.6/dist-packages/statsmodels/tools/_testing.py:19: FutureWarning: pandas.util.testing is deprecated. Use the functions in the public API at pandas.testing instead.\n",
            "  import pandas.util.testing as tm\n"
          ],
          "name": "stderr"
        }
      ]
    },
    {
      "cell_type": "code",
      "metadata": {
        "id": "xj1UApXr69Pf",
        "colab_type": "code",
        "colab": {
          "base_uri": "https://localhost:8080/",
          "height": 144
        },
        "outputId": "54116e70-e8f9-4f60-e1c0-592f6f9e3c2a"
      },
      "source": [
        "df = pd.read_csv('/content/footiee_data.csv')\n",
        "df.head(2)"
      ],
      "execution_count": 2,
      "outputs": [
        {
          "output_type": "execute_result",
          "data": {
            "text/html": [
              "<div>\n",
              "<style scoped>\n",
              "    .dataframe tbody tr th:only-of-type {\n",
              "        vertical-align: middle;\n",
              "    }\n",
              "\n",
              "    .dataframe tbody tr th {\n",
              "        vertical-align: top;\n",
              "    }\n",
              "\n",
              "    .dataframe thead th {\n",
              "        text-align: right;\n",
              "    }\n",
              "</style>\n",
              "<table border=\"1\" class=\"dataframe\">\n",
              "  <thead>\n",
              "    <tr style=\"text-align: right;\">\n",
              "      <th></th>\n",
              "      <th>Unnamed: 0</th>\n",
              "      <th>Finishing</th>\n",
              "      <th>HeadingAccuracy</th>\n",
              "      <th>Dribbling</th>\n",
              "      <th>FKAccuracy</th>\n",
              "      <th>BallControl</th>\n",
              "      <th>Balance</th>\n",
              "      <th>Stamina</th>\n",
              "      <th>Strength</th>\n",
              "      <th>Positioning</th>\n",
              "      <th>Vision</th>\n",
              "      <th>Composure</th>\n",
              "      <th>Marking</th>\n",
              "      <th>height_cm</th>\n",
              "      <th>weight_kg</th>\n",
              "      <th>value</th>\n",
              "      <th>passing</th>\n",
              "      <th>Tackle</th>\n",
              "      <th>speed</th>\n",
              "    </tr>\n",
              "  </thead>\n",
              "  <tbody>\n",
              "    <tr>\n",
              "      <th>0</th>\n",
              "      <td>0</td>\n",
              "      <td>95.0</td>\n",
              "      <td>69.0</td>\n",
              "      <td>97.0</td>\n",
              "      <td>89.5</td>\n",
              "      <td>96.0</td>\n",
              "      <td>93.0</td>\n",
              "      <td>72.0</td>\n",
              "      <td>59.0</td>\n",
              "      <td>94.0</td>\n",
              "      <td>94.0</td>\n",
              "      <td>96.0</td>\n",
              "      <td>27.5</td>\n",
              "      <td>169.78</td>\n",
              "      <td>72.121187</td>\n",
              "      <td>110.5</td>\n",
              "      <td>88.5</td>\n",
              "      <td>27.0</td>\n",
              "      <td>88.0</td>\n",
              "    </tr>\n",
              "    <tr>\n",
              "      <th>1</th>\n",
              "      <td>1</td>\n",
              "      <td>94.0</td>\n",
              "      <td>92.0</td>\n",
              "      <td>88.0</td>\n",
              "      <td>85.5</td>\n",
              "      <td>94.0</td>\n",
              "      <td>78.5</td>\n",
              "      <td>88.0</td>\n",
              "      <td>79.0</td>\n",
              "      <td>95.0</td>\n",
              "      <td>82.0</td>\n",
              "      <td>95.0</td>\n",
              "      <td>28.5</td>\n",
              "      <td>187.48</td>\n",
              "      <td>83.007404</td>\n",
              "      <td>77.0</td>\n",
              "      <td>79.0</td>\n",
              "      <td>27.0</td>\n",
              "      <td>90.2</td>\n",
              "    </tr>\n",
              "  </tbody>\n",
              "</table>\n",
              "</div>"
            ],
            "text/plain": [
              "   Unnamed: 0  Finishing  HeadingAccuracy  ...  passing  Tackle  speed\n",
              "0           0       95.0             69.0  ...     88.5    27.0   88.0\n",
              "1           1       94.0             92.0  ...     79.0    27.0   90.2\n",
              "\n",
              "[2 rows x 19 columns]"
            ]
          },
          "metadata": {
            "tags": []
          },
          "execution_count": 2
        }
      ]
    },
    {
      "cell_type": "code",
      "metadata": {
        "id": "-2EpuaaV7c9y",
        "colab_type": "code",
        "colab": {
          "base_uri": "https://localhost:8080/",
          "height": 100
        },
        "outputId": "3c804300-31ec-42bc-bd08-aa71475d2c34"
      },
      "source": [
        "df.columns"
      ],
      "execution_count": 3,
      "outputs": [
        {
          "output_type": "execute_result",
          "data": {
            "text/plain": [
              "Index(['Unnamed: 0', 'Finishing', 'HeadingAccuracy', 'Dribbling', 'FKAccuracy',\n",
              "       'BallControl', 'Balance', 'Stamina', 'Strength', 'Positioning',\n",
              "       'Vision', 'Composure', 'Marking', 'height_cm', 'weight_kg', 'value',\n",
              "       'passing', 'Tackle', 'speed'],\n",
              "      dtype='object')"
            ]
          },
          "metadata": {
            "tags": []
          },
          "execution_count": 3
        }
      ]
    },
    {
      "cell_type": "code",
      "metadata": {
        "id": "OQeBa0sK7L3O",
        "colab_type": "code",
        "colab": {
          "base_uri": "https://localhost:8080/",
          "height": 97
        },
        "outputId": "bce1a1d2-40f6-4b8d-8e6e-f873a523124e"
      },
      "source": [
        "df = df.drop(['Unnamed: 0'],axis = 1)\n",
        "df.head(1)"
      ],
      "execution_count": 4,
      "outputs": [
        {
          "output_type": "execute_result",
          "data": {
            "text/html": [
              "<div>\n",
              "<style scoped>\n",
              "    .dataframe tbody tr th:only-of-type {\n",
              "        vertical-align: middle;\n",
              "    }\n",
              "\n",
              "    .dataframe tbody tr th {\n",
              "        vertical-align: top;\n",
              "    }\n",
              "\n",
              "    .dataframe thead th {\n",
              "        text-align: right;\n",
              "    }\n",
              "</style>\n",
              "<table border=\"1\" class=\"dataframe\">\n",
              "  <thead>\n",
              "    <tr style=\"text-align: right;\">\n",
              "      <th></th>\n",
              "      <th>Finishing</th>\n",
              "      <th>HeadingAccuracy</th>\n",
              "      <th>Dribbling</th>\n",
              "      <th>FKAccuracy</th>\n",
              "      <th>BallControl</th>\n",
              "      <th>Balance</th>\n",
              "      <th>Stamina</th>\n",
              "      <th>Strength</th>\n",
              "      <th>Positioning</th>\n",
              "      <th>Vision</th>\n",
              "      <th>Composure</th>\n",
              "      <th>Marking</th>\n",
              "      <th>height_cm</th>\n",
              "      <th>weight_kg</th>\n",
              "      <th>value</th>\n",
              "      <th>passing</th>\n",
              "      <th>Tackle</th>\n",
              "      <th>speed</th>\n",
              "    </tr>\n",
              "  </thead>\n",
              "  <tbody>\n",
              "    <tr>\n",
              "      <th>0</th>\n",
              "      <td>95.0</td>\n",
              "      <td>69.0</td>\n",
              "      <td>97.0</td>\n",
              "      <td>89.5</td>\n",
              "      <td>96.0</td>\n",
              "      <td>93.0</td>\n",
              "      <td>72.0</td>\n",
              "      <td>59.0</td>\n",
              "      <td>94.0</td>\n",
              "      <td>94.0</td>\n",
              "      <td>96.0</td>\n",
              "      <td>27.5</td>\n",
              "      <td>169.78</td>\n",
              "      <td>72.121187</td>\n",
              "      <td>110.5</td>\n",
              "      <td>88.5</td>\n",
              "      <td>27.0</td>\n",
              "      <td>88.0</td>\n",
              "    </tr>\n",
              "  </tbody>\n",
              "</table>\n",
              "</div>"
            ],
            "text/plain": [
              "   Finishing  HeadingAccuracy  Dribbling  ...  passing  Tackle  speed\n",
              "0       95.0             69.0       97.0  ...     88.5    27.0   88.0\n",
              "\n",
              "[1 rows x 18 columns]"
            ]
          },
          "metadata": {
            "tags": []
          },
          "execution_count": 4
        }
      ]
    },
    {
      "cell_type": "code",
      "metadata": {
        "id": "jqvBptuO7bbM",
        "colab_type": "code",
        "colab": {
          "base_uri": "https://localhost:8080/",
          "height": 97
        },
        "outputId": "08aa83e4-59e9-49be-fd83-12059c46face"
      },
      "source": [
        "data = df.copy()\n",
        "data['BallControl'] = ((data['BallControl']+data['Dribbling'])/2)\n",
        "data = data.drop(['Dribbling'],axis = 1)\n",
        "data.head(1)"
      ],
      "execution_count": 5,
      "outputs": [
        {
          "output_type": "execute_result",
          "data": {
            "text/html": [
              "<div>\n",
              "<style scoped>\n",
              "    .dataframe tbody tr th:only-of-type {\n",
              "        vertical-align: middle;\n",
              "    }\n",
              "\n",
              "    .dataframe tbody tr th {\n",
              "        vertical-align: top;\n",
              "    }\n",
              "\n",
              "    .dataframe thead th {\n",
              "        text-align: right;\n",
              "    }\n",
              "</style>\n",
              "<table border=\"1\" class=\"dataframe\">\n",
              "  <thead>\n",
              "    <tr style=\"text-align: right;\">\n",
              "      <th></th>\n",
              "      <th>Finishing</th>\n",
              "      <th>HeadingAccuracy</th>\n",
              "      <th>FKAccuracy</th>\n",
              "      <th>BallControl</th>\n",
              "      <th>Balance</th>\n",
              "      <th>Stamina</th>\n",
              "      <th>Strength</th>\n",
              "      <th>Positioning</th>\n",
              "      <th>Vision</th>\n",
              "      <th>Composure</th>\n",
              "      <th>Marking</th>\n",
              "      <th>height_cm</th>\n",
              "      <th>weight_kg</th>\n",
              "      <th>value</th>\n",
              "      <th>passing</th>\n",
              "      <th>Tackle</th>\n",
              "      <th>speed</th>\n",
              "    </tr>\n",
              "  </thead>\n",
              "  <tbody>\n",
              "    <tr>\n",
              "      <th>0</th>\n",
              "      <td>95.0</td>\n",
              "      <td>69.0</td>\n",
              "      <td>89.5</td>\n",
              "      <td>96.5</td>\n",
              "      <td>93.0</td>\n",
              "      <td>72.0</td>\n",
              "      <td>59.0</td>\n",
              "      <td>94.0</td>\n",
              "      <td>94.0</td>\n",
              "      <td>96.0</td>\n",
              "      <td>27.5</td>\n",
              "      <td>169.78</td>\n",
              "      <td>72.121187</td>\n",
              "      <td>110.5</td>\n",
              "      <td>88.5</td>\n",
              "      <td>27.0</td>\n",
              "      <td>88.0</td>\n",
              "    </tr>\n",
              "  </tbody>\n",
              "</table>\n",
              "</div>"
            ],
            "text/plain": [
              "   Finishing  HeadingAccuracy  FKAccuracy  ...  passing  Tackle  speed\n",
              "0       95.0             69.0        89.5  ...     88.5    27.0   88.0\n",
              "\n",
              "[1 rows x 17 columns]"
            ]
          },
          "metadata": {
            "tags": []
          },
          "execution_count": 5
        }
      ]
    },
    {
      "cell_type": "code",
      "metadata": {
        "id": "FHzKNkSL8BdQ",
        "colab_type": "code",
        "colab": {
          "base_uri": "https://localhost:8080/",
          "height": 97
        },
        "outputId": "62fea05c-0b59-4180-bed9-620aeffb6c10"
      },
      "source": [
        "data = data.drop(['height_cm','weight_kg'],axis = 1)\n",
        "data['Tackle'] = ((data['Tackle']+data['Marking'])/2)\n",
        "data = data.drop(['Marking'],axis = 1)\n",
        "data.head(1)"
      ],
      "execution_count": 6,
      "outputs": [
        {
          "output_type": "execute_result",
          "data": {
            "text/html": [
              "<div>\n",
              "<style scoped>\n",
              "    .dataframe tbody tr th:only-of-type {\n",
              "        vertical-align: middle;\n",
              "    }\n",
              "\n",
              "    .dataframe tbody tr th {\n",
              "        vertical-align: top;\n",
              "    }\n",
              "\n",
              "    .dataframe thead th {\n",
              "        text-align: right;\n",
              "    }\n",
              "</style>\n",
              "<table border=\"1\" class=\"dataframe\">\n",
              "  <thead>\n",
              "    <tr style=\"text-align: right;\">\n",
              "      <th></th>\n",
              "      <th>Finishing</th>\n",
              "      <th>HeadingAccuracy</th>\n",
              "      <th>FKAccuracy</th>\n",
              "      <th>BallControl</th>\n",
              "      <th>Balance</th>\n",
              "      <th>Stamina</th>\n",
              "      <th>Strength</th>\n",
              "      <th>Positioning</th>\n",
              "      <th>Vision</th>\n",
              "      <th>Composure</th>\n",
              "      <th>value</th>\n",
              "      <th>passing</th>\n",
              "      <th>Tackle</th>\n",
              "      <th>speed</th>\n",
              "    </tr>\n",
              "  </thead>\n",
              "  <tbody>\n",
              "    <tr>\n",
              "      <th>0</th>\n",
              "      <td>95.0</td>\n",
              "      <td>69.0</td>\n",
              "      <td>89.5</td>\n",
              "      <td>96.5</td>\n",
              "      <td>93.0</td>\n",
              "      <td>72.0</td>\n",
              "      <td>59.0</td>\n",
              "      <td>94.0</td>\n",
              "      <td>94.0</td>\n",
              "      <td>96.0</td>\n",
              "      <td>110.5</td>\n",
              "      <td>88.5</td>\n",
              "      <td>27.25</td>\n",
              "      <td>88.0</td>\n",
              "    </tr>\n",
              "  </tbody>\n",
              "</table>\n",
              "</div>"
            ],
            "text/plain": [
              "   Finishing  HeadingAccuracy  FKAccuracy  ...  passing  Tackle  speed\n",
              "0       95.0             69.0        89.5  ...     88.5   27.25   88.0\n",
              "\n",
              "[1 rows x 14 columns]"
            ]
          },
          "metadata": {
            "tags": []
          },
          "execution_count": 6
        }
      ]
    },
    {
      "cell_type": "code",
      "metadata": {
        "id": "Qlvvh91j91XO",
        "colab_type": "code",
        "colab": {
          "base_uri": "https://localhost:8080/",
          "height": 435
        },
        "outputId": "f9a67ab8-3b2a-4afe-b945-2e32627c82b7"
      },
      "source": [
        "print(f'values of {df.Positioning.value_counts()}\\n\\n values of {df.Vision.value_counts()}')"
      ],
      "execution_count": 7,
      "outputs": [
        {
          "output_type": "stream",
          "text": [
            "values of 58.0    574\n",
            "65.0    537\n",
            "62.0    516\n",
            "64.0    509\n",
            "60.0    503\n",
            "       ... \n",
            "90.0      4\n",
            "91.0      3\n",
            "93.0      2\n",
            "94.0      1\n",
            "95.0      1\n",
            "Name: Positioning, Length: 95, dtype: int64\n",
            "\n",
            " values of 58.0    595\n",
            "55.0    565\n",
            "60.0    541\n",
            "59.0    536\n",
            "62.0    513\n",
            "       ... \n",
            "91.0      3\n",
            "92.0      2\n",
            "94.0      2\n",
            "93.0      1\n",
            "90.0      1\n",
            "Name: Vision, Length: 86, dtype: int64\n"
          ],
          "name": "stdout"
        }
      ]
    },
    {
      "cell_type": "code",
      "metadata": {
        "id": "D-aUQq4l_ArK",
        "colab_type": "code",
        "colab": {}
      },
      "source": [
        "data.to_csv('fotiee_attributes.csv')"
      ],
      "execution_count": 8,
      "outputs": []
    },
    {
      "cell_type": "code",
      "metadata": {
        "id": "l87tROhK_HyZ",
        "colab_type": "code",
        "colab": {}
      },
      "source": [
        "test = data['value']\n",
        "\n",
        "train = data.drop(['value'],axis = 1)"
      ],
      "execution_count": 9,
      "outputs": []
    },
    {
      "cell_type": "code",
      "metadata": {
        "id": "HBZbDVij_Pr9",
        "colab_type": "code",
        "colab": {}
      },
      "source": [
        "from sklearn.model_selection import train_test_split,RandomizedSearchCV,cross_val_score\n",
        "from sklearn.ensemble import RandomForestRegressor\n",
        "from sklearn import metrics"
      ],
      "execution_count": 10,
      "outputs": []
    },
    {
      "cell_type": "code",
      "metadata": {
        "id": "-Mmhrf0S_b4f",
        "colab_type": "code",
        "colab": {}
      },
      "source": [
        "params = {\n",
        "    'n_estimators':[int(x) for x in np.linspace(start=1,stop=1000,num = 10)],\n",
        "    'min_samples_leaf':[2,5,10,12],\n",
        "    'min_samples_split':[2,5,10,12],\n",
        "    'max_depth':[int(x) for x in np.linspace(start=1,stop=30,num = 5)],\n",
        "    'max_features':['auto','sqrt'],\n",
        "}"
      ],
      "execution_count": 11,
      "outputs": []
    },
    {
      "cell_type": "code",
      "metadata": {
        "id": "uTveICsc_4s6",
        "colab_type": "code",
        "colab": {
          "base_uri": "https://localhost:8080/",
          "height": 1000
        },
        "outputId": "e08a23d1-4f3a-4b5a-9b42-21336a031803"
      },
      "source": [
        "rf_est = RandomizedSearchCV(RandomForestRegressor(),param_distributions=params,verbose = 2,scoring='neg_mean_squared_error',\n",
        "                            return_train_score = False,n_iter = 10)\n",
        "rf_est.fit(train,test)"
      ],
      "execution_count": 12,
      "outputs": [
        {
          "output_type": "stream",
          "text": [
            "Fitting 5 folds for each of 10 candidates, totalling 50 fits\n",
            "[CV] n_estimators=334, min_samples_split=2, min_samples_leaf=10, max_features=auto, max_depth=1 \n"
          ],
          "name": "stdout"
        },
        {
          "output_type": "stream",
          "text": [
            "[Parallel(n_jobs=1)]: Using backend SequentialBackend with 1 concurrent workers.\n"
          ],
          "name": "stderr"
        },
        {
          "output_type": "stream",
          "text": [
            "[CV]  n_estimators=334, min_samples_split=2, min_samples_leaf=10, max_features=auto, max_depth=1, total=   2.2s\n",
            "[CV] n_estimators=334, min_samples_split=2, min_samples_leaf=10, max_features=auto, max_depth=1 \n"
          ],
          "name": "stdout"
        },
        {
          "output_type": "stream",
          "text": [
            "[Parallel(n_jobs=1)]: Done   1 out of   1 | elapsed:    2.2s remaining:    0.0s\n"
          ],
          "name": "stderr"
        },
        {
          "output_type": "stream",
          "text": [
            "[CV]  n_estimators=334, min_samples_split=2, min_samples_leaf=10, max_features=auto, max_depth=1, total=   2.2s\n",
            "[CV] n_estimators=334, min_samples_split=2, min_samples_leaf=10, max_features=auto, max_depth=1 \n",
            "[CV]  n_estimators=334, min_samples_split=2, min_samples_leaf=10, max_features=auto, max_depth=1, total=   2.2s\n",
            "[CV] n_estimators=334, min_samples_split=2, min_samples_leaf=10, max_features=auto, max_depth=1 \n",
            "[CV]  n_estimators=334, min_samples_split=2, min_samples_leaf=10, max_features=auto, max_depth=1, total=   2.2s\n",
            "[CV] n_estimators=334, min_samples_split=2, min_samples_leaf=10, max_features=auto, max_depth=1 \n",
            "[CV]  n_estimators=334, min_samples_split=2, min_samples_leaf=10, max_features=auto, max_depth=1, total=   2.2s\n",
            "[CV] n_estimators=445, min_samples_split=5, min_samples_leaf=5, max_features=auto, max_depth=22 \n",
            "[CV]  n_estimators=445, min_samples_split=5, min_samples_leaf=5, max_features=auto, max_depth=22, total=  37.1s\n",
            "[CV] n_estimators=445, min_samples_split=5, min_samples_leaf=5, max_features=auto, max_depth=22 \n",
            "[CV]  n_estimators=445, min_samples_split=5, min_samples_leaf=5, max_features=auto, max_depth=22, total=  40.1s\n",
            "[CV] n_estimators=445, min_samples_split=5, min_samples_leaf=5, max_features=auto, max_depth=22 \n",
            "[CV]  n_estimators=445, min_samples_split=5, min_samples_leaf=5, max_features=auto, max_depth=22, total=  39.0s\n",
            "[CV] n_estimators=445, min_samples_split=5, min_samples_leaf=5, max_features=auto, max_depth=22 \n",
            "[CV]  n_estimators=445, min_samples_split=5, min_samples_leaf=5, max_features=auto, max_depth=22, total=  38.8s\n",
            "[CV] n_estimators=445, min_samples_split=5, min_samples_leaf=5, max_features=auto, max_depth=22 \n",
            "[CV]  n_estimators=445, min_samples_split=5, min_samples_leaf=5, max_features=auto, max_depth=22, total=  39.7s\n",
            "[CV] n_estimators=334, min_samples_split=5, min_samples_leaf=5, max_features=auto, max_depth=30 \n",
            "[CV]  n_estimators=334, min_samples_split=5, min_samples_leaf=5, max_features=auto, max_depth=30, total=  28.8s\n",
            "[CV] n_estimators=334, min_samples_split=5, min_samples_leaf=5, max_features=auto, max_depth=30 \n",
            "[CV]  n_estimators=334, min_samples_split=5, min_samples_leaf=5, max_features=auto, max_depth=30, total=  30.6s\n",
            "[CV] n_estimators=334, min_samples_split=5, min_samples_leaf=5, max_features=auto, max_depth=30 \n",
            "[CV]  n_estimators=334, min_samples_split=5, min_samples_leaf=5, max_features=auto, max_depth=30, total=  29.8s\n",
            "[CV] n_estimators=334, min_samples_split=5, min_samples_leaf=5, max_features=auto, max_depth=30 \n",
            "[CV]  n_estimators=334, min_samples_split=5, min_samples_leaf=5, max_features=auto, max_depth=30, total=  29.7s\n",
            "[CV] n_estimators=334, min_samples_split=5, min_samples_leaf=5, max_features=auto, max_depth=30 \n",
            "[CV]  n_estimators=334, min_samples_split=5, min_samples_leaf=5, max_features=auto, max_depth=30, total=  30.9s\n",
            "[CV] n_estimators=334, min_samples_split=12, min_samples_leaf=12, max_features=sqrt, max_depth=30 \n",
            "[CV]  n_estimators=334, min_samples_split=12, min_samples_leaf=12, max_features=sqrt, max_depth=30, total=   6.5s\n",
            "[CV] n_estimators=334, min_samples_split=12, min_samples_leaf=12, max_features=sqrt, max_depth=30 \n",
            "[CV]  n_estimators=334, min_samples_split=12, min_samples_leaf=12, max_features=sqrt, max_depth=30, total=   6.6s\n",
            "[CV] n_estimators=334, min_samples_split=12, min_samples_leaf=12, max_features=sqrt, max_depth=30 \n",
            "[CV]  n_estimators=334, min_samples_split=12, min_samples_leaf=12, max_features=sqrt, max_depth=30, total=   6.4s\n",
            "[CV] n_estimators=334, min_samples_split=12, min_samples_leaf=12, max_features=sqrt, max_depth=30 \n",
            "[CV]  n_estimators=334, min_samples_split=12, min_samples_leaf=12, max_features=sqrt, max_depth=30, total=   6.4s\n",
            "[CV] n_estimators=334, min_samples_split=12, min_samples_leaf=12, max_features=sqrt, max_depth=30 \n",
            "[CV]  n_estimators=334, min_samples_split=12, min_samples_leaf=12, max_features=sqrt, max_depth=30, total=   6.6s\n",
            "[CV] n_estimators=1, min_samples_split=2, min_samples_leaf=5, max_features=auto, max_depth=30 \n",
            "[CV]  n_estimators=1, min_samples_split=2, min_samples_leaf=5, max_features=auto, max_depth=30, total=   0.1s\n",
            "[CV] n_estimators=1, min_samples_split=2, min_samples_leaf=5, max_features=auto, max_depth=30 \n",
            "[CV]  n_estimators=1, min_samples_split=2, min_samples_leaf=5, max_features=auto, max_depth=30, total=   0.1s\n",
            "[CV] n_estimators=1, min_samples_split=2, min_samples_leaf=5, max_features=auto, max_depth=30 \n",
            "[CV]  n_estimators=1, min_samples_split=2, min_samples_leaf=5, max_features=auto, max_depth=30, total=   0.1s\n",
            "[CV] n_estimators=1, min_samples_split=2, min_samples_leaf=5, max_features=auto, max_depth=30 \n",
            "[CV]  n_estimators=1, min_samples_split=2, min_samples_leaf=5, max_features=auto, max_depth=30, total=   0.1s\n",
            "[CV] n_estimators=1, min_samples_split=2, min_samples_leaf=5, max_features=auto, max_depth=30 \n",
            "[CV]  n_estimators=1, min_samples_split=2, min_samples_leaf=5, max_features=auto, max_depth=30, total=   0.1s\n",
            "[CV] n_estimators=334, min_samples_split=10, min_samples_leaf=5, max_features=auto, max_depth=8 \n",
            "[CV]  n_estimators=334, min_samples_split=10, min_samples_leaf=5, max_features=auto, max_depth=8, total=  14.7s\n",
            "[CV] n_estimators=334, min_samples_split=10, min_samples_leaf=5, max_features=auto, max_depth=8 \n",
            "[CV]  n_estimators=334, min_samples_split=10, min_samples_leaf=5, max_features=auto, max_depth=8, total=  14.5s\n",
            "[CV] n_estimators=334, min_samples_split=10, min_samples_leaf=5, max_features=auto, max_depth=8 \n",
            "[CV]  n_estimators=334, min_samples_split=10, min_samples_leaf=5, max_features=auto, max_depth=8, total=  14.7s\n",
            "[CV] n_estimators=334, min_samples_split=10, min_samples_leaf=5, max_features=auto, max_depth=8 \n",
            "[CV]  n_estimators=334, min_samples_split=10, min_samples_leaf=5, max_features=auto, max_depth=8, total=  14.7s\n",
            "[CV] n_estimators=334, min_samples_split=10, min_samples_leaf=5, max_features=auto, max_depth=8 \n",
            "[CV]  n_estimators=334, min_samples_split=10, min_samples_leaf=5, max_features=auto, max_depth=8, total=  14.5s\n",
            "[CV] n_estimators=112, min_samples_split=12, min_samples_leaf=2, max_features=sqrt, max_depth=22 \n",
            "[CV]  n_estimators=112, min_samples_split=12, min_samples_leaf=2, max_features=sqrt, max_depth=22, total=   2.7s\n",
            "[CV] n_estimators=112, min_samples_split=12, min_samples_leaf=2, max_features=sqrt, max_depth=22 \n",
            "[CV]  n_estimators=112, min_samples_split=12, min_samples_leaf=2, max_features=sqrt, max_depth=22, total=   2.8s\n",
            "[CV] n_estimators=112, min_samples_split=12, min_samples_leaf=2, max_features=sqrt, max_depth=22 \n",
            "[CV]  n_estimators=112, min_samples_split=12, min_samples_leaf=2, max_features=sqrt, max_depth=22, total=   2.7s\n",
            "[CV] n_estimators=112, min_samples_split=12, min_samples_leaf=2, max_features=sqrt, max_depth=22 \n",
            "[CV]  n_estimators=112, min_samples_split=12, min_samples_leaf=2, max_features=sqrt, max_depth=22, total=   2.7s\n",
            "[CV] n_estimators=112, min_samples_split=12, min_samples_leaf=2, max_features=sqrt, max_depth=22 \n",
            "[CV]  n_estimators=112, min_samples_split=12, min_samples_leaf=2, max_features=sqrt, max_depth=22, total=   2.7s\n",
            "[CV] n_estimators=556, min_samples_split=12, min_samples_leaf=12, max_features=sqrt, max_depth=1 \n",
            "[CV]  n_estimators=556, min_samples_split=12, min_samples_leaf=12, max_features=sqrt, max_depth=1, total=   1.5s\n",
            "[CV] n_estimators=556, min_samples_split=12, min_samples_leaf=12, max_features=sqrt, max_depth=1 \n",
            "[CV]  n_estimators=556, min_samples_split=12, min_samples_leaf=12, max_features=sqrt, max_depth=1, total=   1.4s\n",
            "[CV] n_estimators=556, min_samples_split=12, min_samples_leaf=12, max_features=sqrt, max_depth=1 \n",
            "[CV]  n_estimators=556, min_samples_split=12, min_samples_leaf=12, max_features=sqrt, max_depth=1, total=   1.5s\n",
            "[CV] n_estimators=556, min_samples_split=12, min_samples_leaf=12, max_features=sqrt, max_depth=1 \n",
            "[CV]  n_estimators=556, min_samples_split=12, min_samples_leaf=12, max_features=sqrt, max_depth=1, total=   1.4s\n",
            "[CV] n_estimators=556, min_samples_split=12, min_samples_leaf=12, max_features=sqrt, max_depth=1 \n",
            "[CV]  n_estimators=556, min_samples_split=12, min_samples_leaf=12, max_features=sqrt, max_depth=1, total=   1.5s\n",
            "[CV] n_estimators=1000, min_samples_split=2, min_samples_leaf=2, max_features=auto, max_depth=30 \n",
            "[CV]  n_estimators=1000, min_samples_split=2, min_samples_leaf=2, max_features=auto, max_depth=30, total= 1.7min\n",
            "[CV] n_estimators=1000, min_samples_split=2, min_samples_leaf=2, max_features=auto, max_depth=30 \n",
            "[CV]  n_estimators=1000, min_samples_split=2, min_samples_leaf=2, max_features=auto, max_depth=30, total= 1.8min\n",
            "[CV] n_estimators=1000, min_samples_split=2, min_samples_leaf=2, max_features=auto, max_depth=30 \n",
            "[CV]  n_estimators=1000, min_samples_split=2, min_samples_leaf=2, max_features=auto, max_depth=30, total= 1.8min\n",
            "[CV] n_estimators=1000, min_samples_split=2, min_samples_leaf=2, max_features=auto, max_depth=30 \n",
            "[CV]  n_estimators=1000, min_samples_split=2, min_samples_leaf=2, max_features=auto, max_depth=30, total= 1.8min\n",
            "[CV] n_estimators=1000, min_samples_split=2, min_samples_leaf=2, max_features=auto, max_depth=30 \n",
            "[CV]  n_estimators=1000, min_samples_split=2, min_samples_leaf=2, max_features=auto, max_depth=30, total= 1.8min\n",
            "[CV] n_estimators=445, min_samples_split=10, min_samples_leaf=10, max_features=sqrt, max_depth=30 \n",
            "[CV]  n_estimators=445, min_samples_split=10, min_samples_leaf=10, max_features=sqrt, max_depth=30, total=   8.9s\n",
            "[CV] n_estimators=445, min_samples_split=10, min_samples_leaf=10, max_features=sqrt, max_depth=30 \n",
            "[CV]  n_estimators=445, min_samples_split=10, min_samples_leaf=10, max_features=sqrt, max_depth=30, total=   9.1s\n",
            "[CV] n_estimators=445, min_samples_split=10, min_samples_leaf=10, max_features=sqrt, max_depth=30 \n",
            "[CV]  n_estimators=445, min_samples_split=10, min_samples_leaf=10, max_features=sqrt, max_depth=30, total=   8.9s\n",
            "[CV] n_estimators=445, min_samples_split=10, min_samples_leaf=10, max_features=sqrt, max_depth=30 \n",
            "[CV]  n_estimators=445, min_samples_split=10, min_samples_leaf=10, max_features=sqrt, max_depth=30, total=   8.8s\n",
            "[CV] n_estimators=445, min_samples_split=10, min_samples_leaf=10, max_features=sqrt, max_depth=30 \n",
            "[CV]  n_estimators=445, min_samples_split=10, min_samples_leaf=10, max_features=sqrt, max_depth=30, total=   9.0s\n"
          ],
          "name": "stdout"
        },
        {
          "output_type": "stream",
          "text": [
            "[Parallel(n_jobs=1)]: Done  50 out of  50 | elapsed: 17.6min finished\n"
          ],
          "name": "stderr"
        },
        {
          "output_type": "execute_result",
          "data": {
            "text/plain": [
              "RandomizedSearchCV(cv=None, error_score=nan,\n",
              "                   estimator=RandomForestRegressor(bootstrap=True,\n",
              "                                                   ccp_alpha=0.0,\n",
              "                                                   criterion='mse',\n",
              "                                                   max_depth=None,\n",
              "                                                   max_features='auto',\n",
              "                                                   max_leaf_nodes=None,\n",
              "                                                   max_samples=None,\n",
              "                                                   min_impurity_decrease=0.0,\n",
              "                                                   min_impurity_split=None,\n",
              "                                                   min_samples_leaf=1,\n",
              "                                                   min_samples_split=2,\n",
              "                                                   min_weight_fraction_leaf=0.0,\n",
              "                                                   n_estimators=100,\n",
              "                                                   n_jobs=None, oob_score=F...\n",
              "                   iid='deprecated', n_iter=10, n_jobs=None,\n",
              "                   param_distributions={'max_depth': [1, 8, 15, 22, 30],\n",
              "                                        'max_features': ['auto', 'sqrt'],\n",
              "                                        'min_samples_leaf': [2, 5, 10, 12],\n",
              "                                        'min_samples_split': [2, 5, 10, 12],\n",
              "                                        'n_estimators': [1, 112, 223, 334, 445,\n",
              "                                                         556, 667, 778, 889,\n",
              "                                                         1000]},\n",
              "                   pre_dispatch='2*n_jobs', random_state=None, refit=True,\n",
              "                   return_train_score=False, scoring='neg_mean_squared_error',\n",
              "                   verbose=2)"
            ]
          },
          "metadata": {
            "tags": []
          },
          "execution_count": 12
        }
      ]
    },
    {
      "cell_type": "code",
      "metadata": {
        "id": "aBwJUAb8APah",
        "colab_type": "code",
        "colab": {
          "base_uri": "https://localhost:8080/",
          "height": 33
        },
        "outputId": "fe3e68e0-80ee-4fa1-c063-f4b1a4533395"
      },
      "source": [
        "rf_est.best_score_"
      ],
      "execution_count": 13,
      "outputs": [
        {
          "output_type": "execute_result",
          "data": {
            "text/plain": [
              "-67408.90223029963"
            ]
          },
          "metadata": {
            "tags": []
          },
          "execution_count": 13
        }
      ]
    },
    {
      "cell_type": "code",
      "metadata": {
        "id": "PUGdaQh4E5ty",
        "colab_type": "code",
        "colab": {
          "base_uri": "https://localhost:8080/",
          "height": 134
        },
        "outputId": "2ddde329-2368-44e2-e85d-f186633e2ac4"
      },
      "source": [
        "rf_est.best_estimator_"
      ],
      "execution_count": 14,
      "outputs": [
        {
          "output_type": "execute_result",
          "data": {
            "text/plain": [
              "RandomForestRegressor(bootstrap=True, ccp_alpha=0.0, criterion='mse',\n",
              "                      max_depth=30, max_features='auto', max_leaf_nodes=None,\n",
              "                      max_samples=None, min_impurity_decrease=0.0,\n",
              "                      min_impurity_split=None, min_samples_leaf=5,\n",
              "                      min_samples_split=5, min_weight_fraction_leaf=0.0,\n",
              "                      n_estimators=334, n_jobs=None, oob_score=False,\n",
              "                      random_state=None, verbose=0, warm_start=False)"
            ]
          },
          "metadata": {
            "tags": []
          },
          "execution_count": 14
        }
      ]
    },
    {
      "cell_type": "code",
      "metadata": {
        "id": "8buQYOIHE7mm",
        "colab_type": "code",
        "colab": {}
      },
      "source": [
        "X_train, X_test, y_train, y_test  = train_test_split(train,test,test_size = 0.2)"
      ],
      "execution_count": 15,
      "outputs": []
    },
    {
      "cell_type": "code",
      "metadata": {
        "id": "oIe-LjuqFEab",
        "colab_type": "code",
        "colab": {
          "base_uri": "https://localhost:8080/",
          "height": 33
        },
        "outputId": "205f877c-e122-4ab7-a2d5-b90d6e119d5a"
      },
      "source": [
        "rf = RandomForestRegressor(bootstrap=True, ccp_alpha=0.0, criterion='mse',\n",
        "                      max_depth=30, max_features='auto', max_leaf_nodes=None,\n",
        "                      max_samples=None, min_impurity_decrease=0.0,\n",
        "                      min_impurity_split=None, min_samples_leaf=5,\n",
        "                      min_samples_split=5, min_weight_fraction_leaf=0.0,\n",
        "                      n_estimators=334, n_jobs=None, oob_score=False,\n",
        "                      random_state=None, verbose=0, warm_start=False)\n",
        "rf.fit(X_train,y_train)\n",
        "rf.score(X_train,y_train)\n"
      ],
      "execution_count": 17,
      "outputs": [
        {
          "output_type": "execute_result",
          "data": {
            "text/plain": [
              "0.7571910169963952"
            ]
          },
          "metadata": {
            "tags": []
          },
          "execution_count": 17
        }
      ]
    },
    {
      "cell_type": "code",
      "metadata": {
        "id": "qlwmPtXUFMDO",
        "colab_type": "code",
        "colab": {
          "base_uri": "https://localhost:8080/",
          "height": 33
        },
        "outputId": "55b8add1-d6c0-4925-aeec-6a23d20a7688"
      },
      "source": [
        "rf.score(X_test,y_test)"
      ],
      "execution_count": 18,
      "outputs": [
        {
          "output_type": "execute_result",
          "data": {
            "text/plain": [
              "0.44457190644316263"
            ]
          },
          "metadata": {
            "tags": []
          },
          "execution_count": 18
        }
      ]
    },
    {
      "cell_type": "code",
      "metadata": {
        "id": "Z-fnSVigFf0N",
        "colab_type": "code",
        "colab": {
          "base_uri": "https://localhost:8080/",
          "height": 33
        },
        "outputId": "234e3dfe-8209-4f80-eee5-591f14c52260"
      },
      "source": [
        "rf.fit(X_test,y_test)\n",
        "rf.score(X_test,y_test)"
      ],
      "execution_count": 19,
      "outputs": [
        {
          "output_type": "execute_result",
          "data": {
            "text/plain": [
              "0.7512701717163603"
            ]
          },
          "metadata": {
            "tags": []
          },
          "execution_count": 19
        }
      ]
    },
    {
      "cell_type": "code",
      "metadata": {
        "id": "ORXD5Tw9jmQS",
        "colab_type": "code",
        "colab": {}
      },
      "source": [
        "import pickle\n",
        "file = open('fotieefinal.pkl','wb')\n",
        "pickle.dump(rf,file)\n",
        "file.close()"
      ],
      "execution_count": 20,
      "outputs": []
    },
    {
      "cell_type": "code",
      "metadata": {
        "id": "f-mwmNd4ZfgW",
        "colab_type": "code",
        "colab": {}
      },
      "source": [
        ""
      ],
      "execution_count": null,
      "outputs": []
    }
  ]
}